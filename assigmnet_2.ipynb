{
  "nbformat": 4,
  "nbformat_minor": 0,
  "metadata": {
    "colab": {
      "name": "assigmnet_2.ipynb",
      "provenance": [],
      "collapsed_sections": []
    },
    "kernelspec": {
      "name": "python3",
      "display_name": "Python 3"
    },
    "language_info": {
      "name": "python"
    }
  },
  "cells": [
    {
      "cell_type": "code",
      "metadata": {
        "id": "zMNQIxXCb8lT"
      },
      "source": [
        "import tensorflow as tf\n",
        "from tensorflow import keras\n",
        "import matplotlib.pyplot as plt\n",
        "import numpy as np"
      ],
      "execution_count": 29,
      "outputs": []
    },
    {
      "cell_type": "code",
      "metadata": {
        "id": "K24UH7dyme1r"
      },
      "source": [
        "(X_train, y_train), (X_test, y_test) = keras.datasets.cifar10.load_data()"
      ],
      "execution_count": 30,
      "outputs": []
    },
    {
      "cell_type": "code",
      "metadata": {
        "colab": {
          "base_uri": "https://localhost:8080/"
        },
        "id": "doBRrglnYb72",
        "outputId": "6a7c4d3d-3ba2-48f5-ff37-9064078692d6"
      },
      "source": [
        "\n",
        "print(X_train.shape)\n",
        "print(X_test.shape)\n",
        "\n",
        "print(y_train.shape)\n",
        "print(y_test.shape)"
      ],
      "execution_count": 37,
      "outputs": [
        {
          "output_type": "stream",
          "name": "stdout",
          "text": [
            "(50000, 32, 32, 3)\n",
            "(10000, 32, 32, 3)\n",
            "(50000, 1)\n",
            "(10000, 1)\n"
          ]
        }
      ]
    },
    {
      "cell_type": "code",
      "metadata": {
        "colab": {
          "base_uri": "https://localhost:8080/"
        },
        "id": "ra5NHW2akklP",
        "outputId": "24b8f251-4c59-46cc-de7c-98831d63dc28"
      },
      "source": [
        "num_test = X_test.shape[0]\n",
        "num_train = X_train.shape[0]\n",
        "num_test,num_train"
      ],
      "execution_count": 40,
      "outputs": [
        {
          "output_type": "execute_result",
          "data": {
            "text/plain": [
              "(10000, 50000)"
            ]
          },
          "metadata": {},
          "execution_count": 40
        }
      ]
    },
    {
      "cell_type": "code",
      "metadata": {
        "colab": {
          "base_uri": "https://localhost:8080/"
        },
        "id": "24ofxd5-k4kq",
        "outputId": "4192fa51-418a-49b5-e532-1f142939509d"
      },
      "source": [
        "dists = np.zeros((num_test, num_train))\n",
        "dists.shape"
      ],
      "execution_count": 41,
      "outputs": [
        {
          "output_type": "execute_result",
          "data": {
            "text/plain": [
              "(10000, 50000)"
            ]
          },
          "metadata": {},
          "execution_count": 41
        }
      ]
    },
    {
      "cell_type": "code",
      "metadata": {
        "id": "cbAcZLV_jSMZ"
      },
      "source": [
        "for i in range(num_test):\n",
        "  for j in range(num_train):\n",
        "    dists[i,j] = np.linalg.norm(X_train[j,:]-X_test[i,:])\n",
        "# return dists"
      ],
      "execution_count": 43,
      "outputs": []
    },
    {
      "cell_type": "code",
      "metadata": {
        "id": "T5wQuGBNkCuv"
      },
      "source": [
        "# dists[i,j] = np.sqrt(np.sum(np.square(X_test[i,:]-X_train[j,:])))"
      ],
      "execution_count": null,
      "outputs": []
    },
    {
      "cell_type": "code",
      "metadata": {
        "id": "-vlEf6-_kT7Y"
      },
      "source": [
        "num_folds = 5\n",
        "k_choices = [1, 3, 5, 8, 10, 12, 15, 20, 50, 100]\n",
        "\n",
        "X_train_folds = []\n",
        "y_train_folds = []\n",
        "\n",
        "X_train_folds = np.array_split(X_train, num_folds)\n",
        "y_train_folds = np.array_split(y_train, num_folds)"
      ],
      "execution_count": 52,
      "outputs": []
    },
    {
      "cell_type": "code",
      "metadata": {
        "id": "Gl_6-INTkZVZ",
        "colab": {
          "base_uri": "https://localhost:8080/",
          "height": 248
        },
        "outputId": "d9b957b7-162d-4cad-b2e5-ad97200218bc"
      },
      "source": [
        "for k in k_choices:\n",
        "    k_to_accuracies={k:[]}\n",
        "\n",
        "for k in k_choices:\n",
        "    print('k=%d' % k)\n",
        "    for j in range(num_folds):\n",
        "        # Use all but one folds as our crossval training set\n",
        "        X_train_crossval = np.vstack(X_train_folds[0:j] + X_train_folds[j+1:])\n",
        "        # Use the last fold as our crossval test set\n",
        "        X_test_crossval = X_train_folds[j]\n",
        "\n",
        "        y_train_crossval = np.hstack(y_train_folds[0:j]+y_train_folds[j+1:])\n",
        "        y_test_crossval = y_train_folds[j]\n",
        "\n",
        "        # Train the k-NN Classifier using the crossval training set\n",
        "        classifier.train(X_train_crossval, y_train_crossval)\n",
        "\n",
        "        # Use the trained classifer to compute the distance of our crossval test set\n",
        "        dists_crossval = classifier.compute_distances_no_loops(X_test_crossval)\n",
        "\n",
        "        y_test_pred = classifier.predict_labels(dists_crossval, k)\n",
        "        num_correct = np.sum(y_test_pred == y_test_crossval)\n",
        "        accuracy = float(num_correct) / num_test\n",
        "\n",
        "        k_to_accuracies[k].append(accuracy)"
      ],
      "execution_count": 55,
      "outputs": [
        {
          "output_type": "stream",
          "name": "stdout",
          "text": [
            "k=1\n"
          ]
        },
        {
          "output_type": "error",
          "ename": "NameError",
          "evalue": "ignored",
          "traceback": [
            "\u001b[0;31m---------------------------------------------------------------------------\u001b[0m",
            "\u001b[0;31mNameError\u001b[0m                                 Traceback (most recent call last)",
            "\u001b[0;32m<ipython-input-55-3625af8c9b71>\u001b[0m in \u001b[0;36m<module>\u001b[0;34m()\u001b[0m\n\u001b[1;32m     14\u001b[0m \u001b[0;34m\u001b[0m\u001b[0m\n\u001b[1;32m     15\u001b[0m         \u001b[0;31m# Train the k-NN Classifier using the crossval training set\u001b[0m\u001b[0;34m\u001b[0m\u001b[0;34m\u001b[0m\u001b[0;34m\u001b[0m\u001b[0m\n\u001b[0;32m---> 16\u001b[0;31m         \u001b[0mclassifier\u001b[0m\u001b[0;34m.\u001b[0m\u001b[0mtrain\u001b[0m\u001b[0;34m(\u001b[0m\u001b[0mX_train_crossval\u001b[0m\u001b[0;34m,\u001b[0m \u001b[0my_train_crossval\u001b[0m\u001b[0;34m)\u001b[0m\u001b[0;34m\u001b[0m\u001b[0;34m\u001b[0m\u001b[0m\n\u001b[0m\u001b[1;32m     17\u001b[0m \u001b[0;34m\u001b[0m\u001b[0m\n\u001b[1;32m     18\u001b[0m         \u001b[0;31m# Use the trained classifer to compute the distance of our crossval test set\u001b[0m\u001b[0;34m\u001b[0m\u001b[0;34m\u001b[0m\u001b[0;34m\u001b[0m\u001b[0m\n",
            "\u001b[0;31mNameError\u001b[0m: name 'classifier' is not defined"
          ]
        }
      ]
    }
  ]
}