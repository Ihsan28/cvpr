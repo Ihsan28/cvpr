{
  "nbformat": 4,
  "nbformat_minor": 0,
  "metadata": {
    "colab": {
      "name": "assigmnet_2.ipynb",
      "provenance": [],
      "collapsed_sections": []
    },
    "kernelspec": {
      "name": "python3",
      "display_name": "Python 3"
    },
    "language_info": {
      "name": "python"
    }
  },
  "cells": [
    {
      "cell_type": "code",
      "metadata": {
        "id": "zMNQIxXCb8lT"
      },
      "source": [
        "import tensorflow as tf\n",
        "from tensorflow import keras\n",
        "import matplotlib.pyplot as plt\n",
        "import numpy as np"
      ],
      "execution_count": 1,
      "outputs": []
    },
    {
      "cell_type": "code",
      "metadata": {
        "id": "K24UH7dyme1r",
        "colab": {
          "base_uri": "https://localhost:8080/"
        },
        "outputId": "613384ff-6eba-47e0-f312-d8bbc4e7c6a3"
      },
      "source": [
        "(X_train, y_train), (X_test, y_test) = keras.datasets.cifar10.load_data()"
      ],
      "execution_count": 2,
      "outputs": [
        {
          "output_type": "stream",
          "name": "stdout",
          "text": [
            "Downloading data from https://www.cs.toronto.edu/~kriz/cifar-10-python.tar.gz\n",
            "170500096/170498071 [==============================] - 2s 0us/step\n",
            "170508288/170498071 [==============================] - 2s 0us/step\n"
          ]
        }
      ]
    },
    {
      "cell_type": "code",
      "metadata": {
        "colab": {
          "base_uri": "https://localhost:8080/"
        },
        "id": "doBRrglnYb72",
        "outputId": "8cbfe50f-7705-4790-ca98-10932d74ee61"
      },
      "source": [
        "\n",
        "print(X_train.shape)\n",
        "print(X_test.shape)\n",
        "\n",
        "print(y_train.shape)\n",
        "print(y_test.shape)"
      ],
      "execution_count": 3,
      "outputs": [
        {
          "output_type": "stream",
          "name": "stdout",
          "text": [
            "(50000, 32, 32, 3)\n",
            "(10000, 32, 32, 3)\n",
            "(50000, 1)\n",
            "(10000, 1)\n"
          ]
        }
      ]
    },
    {
      "cell_type": "code",
      "metadata": {
        "colab": {
          "base_uri": "https://localhost:8080/"
        },
        "id": "ra5NHW2akklP",
        "outputId": "11e510c1-52e4-4cdc-9a11-8816aa3c6d87"
      },
      "source": [
        "num_test = X_test.shape[0]\n",
        "num_train = X_train.shape[0]\n",
        "num_test,num_train"
      ],
      "execution_count": 4,
      "outputs": [
        {
          "output_type": "execute_result",
          "data": {
            "text/plain": [
              "(10000, 50000)"
            ]
          },
          "metadata": {},
          "execution_count": 4
        }
      ]
    },
    {
      "cell_type": "code",
      "metadata": {
        "colab": {
          "base_uri": "https://localhost:8080/"
        },
        "id": "24ofxd5-k4kq",
        "outputId": "88022c98-930b-4706-85cd-342f24f1d2b8"
      },
      "source": [
        "dists = np.zeros((num_test, num_train))\n",
        "dists.shape"
      ],
      "execution_count": 5,
      "outputs": [
        {
          "output_type": "execute_result",
          "data": {
            "text/plain": [
              "(10000, 50000)"
            ]
          },
          "metadata": {},
          "execution_count": 5
        }
      ]
    },
    {
      "cell_type": "code",
      "metadata": {
        "id": "cbAcZLV_jSMZ"
      },
      "source": [
        "for i in range(num_test):\n",
        "  for j in range(num_train):\n",
        "    dists[i,j] = np.sqrt(np.sum(np.square(X_test[i,:]-X_train[j,:])))\n"
      ],
      "execution_count": null,
      "outputs": []
    },
    {
      "cell_type": "code",
      "metadata": {
        "id": "-vlEf6-_kT7Y"
      },
      "source": [
        "num_folds = 5\n",
        "k_choices = [1, 3, 5, 8, 10, 12, 15, 20, 50, 100]\n",
        "\n",
        "X_train_folds = []\n",
        "y_train_folds = []\n",
        "\n",
        "X_train_folds = np.array_split(X_train, num_folds)\n",
        "y_train_folds = np.array_split(y_train, num_folds)"
      ],
      "execution_count": null,
      "outputs": []
    },
    {
      "cell_type": "code",
      "metadata": {
        "id": "Gl_6-INTkZVZ"
      },
      "source": [
        "for k in k_choices:\n",
        "    k_to_accuracies[k] = []\n",
        "\n",
        "for k in k_choices:\n",
        "    print('k=%d' % k)\n",
        "    for j in range(num_folds):\n",
        "        # Use all but one folds as our crossval training set\n",
        "        X_train_crossval = np.vstack(X_train_folds[0:j] + X_train_folds[j+1:])\n",
        "        # Use the last fold as our crossval test set\n",
        "        X_test_crossval = X_train_folds[j]\n",
        "\n",
        "        y_train_crossval = np.hstack(y_train_folds[0:j]+y_train_folds[j+1:])\n",
        "        y_test_crossval = y_train_folds[j]\n",
        "\n",
        "        # Train the k-NN Classifier using the crossval training set\n",
        "        classifier.train(X_train_crossval, y_train_crossval)\n",
        "\n",
        "        # Use the trained classifer to compute the distance of our crossval test set\n",
        "        dists_crossval = classifier.compute_distances_no_loops(X_test_crossval)\n",
        "\n",
        "        y_test_pred = classifier.predict_labels(dists_crossval, k)\n",
        "        num_correct = np.sum(y_test_pred == y_test_crossval)\n",
        "        accuracy = float(num_correct) / num_test\n",
        "\n",
        "        k_to_accuracies[k].append(accuracy)"
      ],
      "execution_count": null,
      "outputs": []
    }
  ]
}